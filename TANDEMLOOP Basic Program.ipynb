{
 "cells": [
  {
   "cell_type": "code",
   "execution_count": 7,
   "metadata": {},
   "outputs": [],
   "source": [
    "#1.small calculator"
   ]
  },
  {
   "cell_type": "code",
   "execution_count": null,
   "metadata": {},
   "outputs": [],
   "source": [
    "class Calculator:\n",
    "    def __init__(self, a, b):\n",
    "        self.a = a\n",
    "        self.b = b\n",
    "    \n",
    "    def add(self):\n",
    "        return self.a + self.b\n",
    "    \n",
    "    def subtract(self):\n",
    "        return self.a - self.b\n",
    "    \n",
    "    def multiply(self):\n",
    "        return self.a * self.b\n",
    "    \n",
    "    def divide(self):\n",
    "        if self.b != 0:\n",
    "            return self.a / self.b\n",
    "        else:\n",
    "            return \"Error: Division by zero is not allowed.\"\n",
    "\n",
    "\n",
    "try:\n",
    "    a = float(input(\"Enter the first number: \"))\n",
    "    b = float(input(\"Enter the second number: \"))\n",
    "\n",
    "    operation = input(\"Enter the operation (+ for addition, - for subtraction, * for multiplication, / for division): \")\n",
    "\n",
    "    calculator = Calculator(a, b)\n",
    "\n",
    "    if operation == \"+\":\n",
    "        result = calculator.add()\n",
    "    elif operation == \"-\":\n",
    "        result = calculator.subtract()\n",
    "    elif operation == \"*\":\n",
    "        result = calculator.multiply()\n",
    "    elif operation == \"/\":\n",
    "        result = calculator.divide()\n",
    "    else:\n",
    "        result = \"Invalid operation entered.\"\n",
    "\n",
    "    print(\"Result:\", result)\n",
    "except ValueError:\n",
    "    print(\"Invalid input. Please enter valid numbers for calculations.\")\n"
   ]
  },
  {
   "cell_type": "code",
   "execution_count": 8,
   "metadata": {},
   "outputs": [],
   "source": [
    "#2.Prime Numbers"
   ]
  },
  {
   "cell_type": "code",
   "execution_count": 9,
   "metadata": {},
   "outputs": [
    {
     "name": "stdout",
     "output_type": "stream",
     "text": [
      "Output: 1, 3, 5, 7\n"
     ]
    }
   ],
   "source": [
    "def generate_series(a):\n",
    "    series = []\n",
    "    for i in range(1, a+1):\n",
    "        series.append(2*i - 1)\n",
    "    return series\n",
    "\n",
    "\n",
    "a = int(input(\"Enter the value of 'a': \"))\n",
    "\n",
    "result = generate_series(a)\n",
    "print(\"Output:\", \", \".join(str(num) for num in result))\n"
   ]
  },
  {
   "cell_type": "code",
   "execution_count": 10,
   "metadata": {},
   "outputs": [],
   "source": [
    "#3.Only odd number of prime numbers"
   ]
  },
  {
   "cell_type": "code",
   "execution_count": 13,
   "metadata": {},
   "outputs": [
    {
     "name": "stdout",
     "output_type": "stream",
     "text": [
      "Output: 1, 3, 5, 7, 9\n"
     ]
    }
   ],
   "source": [
    "def generate_series(a):\n",
    "    series = []\n",
    "    if (a%2==0):\n",
    "        for i in range(1,a):\n",
    "            series.append(2*i-1)\n",
    "    else:\n",
    "        for j in range(1,a+1):\n",
    "            series.append(2*i-1)\n",
    "\n",
    "    return series\n",
    "\n",
    "a = int(input(\"Enter the value of 'a': \"))\n",
    "\n",
    "result = generate_series(a)\n",
    "print(\"Output:\", \", \".join(str(num) for num in result))\n"
   ]
  },
  {
   "cell_type": "code",
   "execution_count": 15,
   "metadata": {},
   "outputs": [],
   "source": [
    "#4.Total count of number listed in the dictionary"
   ]
  },
  {
   "cell_type": "code",
   "execution_count": 16,
   "metadata": {},
   "outputs": [
    {
     "name": "stdout",
     "output_type": "stream",
     "text": [
      "Output: {1: 11, 2: 8, 3: 4, 4: 4, 5: 3, 6: 2, 7: 0, 8: 1, 9: 1}\n"
     ]
    }
   ],
   "source": [
    "def count_multiples(numbers, multiples):\n",
    "    counts = {multiple: 0 for multiple in multiples}\n",
    "    \n",
    "    for number in numbers:\n",
    "        for multiple in multiples:\n",
    "            if number % multiple == 0:\n",
    "                counts[multiple] += 1\n",
    "    \n",
    "    return counts\n",
    "\n",
    "\n",
    "numbers = [1, 2, 8, 9, 12, 46, 76, 82, 15, 20, 30]\n",
    "multiples = [1, 2, 3, 4, 5, 6, 7, 8, 9]\n",
    "\n",
    "result = count_multiples(numbers, multiples)\n",
    "print(\"Output:\", result)\n"
   ]
  },
  {
   "cell_type": "code",
   "execution_count": null,
   "metadata": {},
   "outputs": [],
   "source": []
  }
 ],
 "metadata": {
  "kernelspec": {
   "display_name": "Python 3",
   "language": "python",
   "name": "python3"
  },
  "language_info": {
   "codemirror_mode": {
    "name": "ipython",
    "version": 3
   },
   "file_extension": ".py",
   "mimetype": "text/x-python",
   "name": "python",
   "nbconvert_exporter": "python",
   "pygments_lexer": "ipython3",
   "version": "3.10.0"
  },
  "orig_nbformat": 4
 },
 "nbformat": 4,
 "nbformat_minor": 2
}
